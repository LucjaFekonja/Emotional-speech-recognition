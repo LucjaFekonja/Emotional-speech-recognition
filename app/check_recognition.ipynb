{
 "cells": [
  {
   "cell_type": "code",
   "execution_count": 1,
   "metadata": {},
   "outputs": [],
   "source": [
    "from read_file import read_file \n",
    "import class_extraction as ce\n",
    "import feature_extraction as fe\n",
    "import dimension_reduction as dr\n",
    "import numpy as np\n",
    "import pandas as pd\n",
    "from os import listdir\n",
    "import classifier_selection as cs"
   ]
  },
  {
   "cell_type": "markdown",
   "metadata": {},
   "source": [
    "Get all the files in the \"audio\" folder."
   ]
  },
  {
   "cell_type": "code",
   "execution_count": 2,
   "metadata": {},
   "outputs": [],
   "source": [
    "file_names = [\"../audio_tess/\" + f for f in listdir(\"..\\\\audio_tess\")]"
   ]
  },
  {
   "cell_type": "markdown",
   "metadata": {},
   "source": [
    "Create dataframe $X$, where features of each signal will be saved, and vector $Y$, where all classifiactions of each signal will be stored. Next read each file in the audio folder and calculate it's features by using function in feature_extraction.py. For each feature and it's first and second derivative calculate the following statistics: max, min, mean, standard deviation, skewness, kurtosis. Save all the statistics in matrix $X$. "
   ]
  },
  {
   "cell_type": "code",
   "execution_count": null,
   "metadata": {},
   "outputs": [],
   "source": [
    "X = fe.calculate_feature_matrix(file_names)\n",
    "X.to_csv('X_tess.csv')"
   ]
  },
  {
   "cell_type": "code",
   "execution_count": null,
   "metadata": {},
   "outputs": [],
   "source": [
    "Y = []\n",
    "for i, file_name in enumerate(file_names):\n",
    "    # Save the classification of the signal in Y\n",
    "    # Y += [ce.get_class_savee(file_name)]\n",
    "    Y += [ce.get_class_tess(file_name)]\n",
    "    \n",
    "Y = pd.Series(Y)\n",
    "Y.to_csv(\"Y_tess.csv\")"
   ]
  },
  {
   "cell_type": "code",
   "execution_count": 2,
   "metadata": {},
   "outputs": [],
   "source": [
    "X = pd.read_csv(\"X_tess.csv\", sep=\",\").drop(\"Unnamed: 0\", axis=1).dropna(axis=1, how='any')\n",
    "Y = pd.read_csv(\"Y_tess.csv\", sep=\",\").drop(\"Unnamed: 0\", axis=1)"
   ]
  },
  {
   "cell_type": "code",
   "execution_count": null,
   "metadata": {},
   "outputs": [],
   "source": [
    "SVM_Fisher_list = []\n",
    "for i in range(1, 100):\n",
    "    acc, _, _, _, _ = cs.SVM(X, Y, i, \"fisher\")\n",
    "    SVM_Fisher_list += [acc]"
   ]
  },
  {
   "cell_type": "code",
   "execution_count": 4,
   "metadata": {},
   "outputs": [
    {
     "data": {
      "text/plain": [
       "(np.float64(0.6196428571428572), np.int64(93))"
      ]
     },
     "execution_count": 4,
     "metadata": {},
     "output_type": "execute_result"
    }
   ],
   "source": [
    "np.max(SVM_Fisher_list), np.argmax(SVM_Fisher_list)"
   ]
  },
  {
   "cell_type": "code",
   "execution_count": 12,
   "metadata": {},
   "outputs": [
    {
     "name": "stderr",
     "output_type": "stream",
     "text": [
      "c:\\Users\\Uporabnik\\AppData\\Local\\Programs\\Python\\Python312\\Lib\\site-packages\\sklearn\\utils\\validation.py:1339: DataConversionWarning: A column-vector y was passed when a 1d array was expected. Please change the shape of y to (n_samples, ), for example using ravel().\n",
      "  y = column_or_1d(y, warn=True)\n"
     ]
    },
    {
     "name": "stdout",
     "output_type": "stream",
     "text": [
      "SVM and LDA\n",
      "Accuracy:  0.6125\n",
      "F1 score:  0.5994204136156622\n",
      "Recall score:  0.6125\n",
      "Precision score:  0.6159195635771842\n"
     ]
    }
   ],
   "source": [
    "SVM_Fisher_accuracy, SVM_Fisher_f1, SVM_Fisher_recall, SVM_Fisher_precision, SVM_Fisher_cm = cs.SVM(X, Y, 93, \"fisher\")\n",
    "print(\"SVM and LDA\")\n",
    "print(\"Accuracy: \", SVM_Fisher_accuracy)\n",
    "print(\"F1 score: \", SVM_Fisher_f1)\n",
    "print(\"Recall score: \", SVM_Fisher_recall)\n",
    "print(\"Precision score: \", SVM_Fisher_precision)"
   ]
  },
  {
   "cell_type": "code",
   "execution_count": 13,
   "metadata": {},
   "outputs": [
    {
     "data": {
      "text/plain": [
       "array([[79,  6,  6,  5,  7,  2,  2],\n",
       "       [ 4, 37, 16,  0,  6, 15,  2],\n",
       "       [18,  3, 44,  2,  1,  8,  0],\n",
       "       [ 0,  2,  0, 60,  4,  5,  4],\n",
       "       [ 7,  1,  4,  3, 49,  6,  1],\n",
       "       [ 8,  3,  5,  2,  4, 62,  4],\n",
       "       [ 4,  0,  3,  7,  6, 31, 12]])"
      ]
     },
     "execution_count": 13,
     "metadata": {},
     "output_type": "execute_result"
    }
   ],
   "source": [
    "SVM_Fisher_cm"
   ]
  },
  {
   "cell_type": "code",
   "execution_count": null,
   "metadata": {},
   "outputs": [],
   "source": [
    "SVM_PCA_list = []\n",
    "for i in range(1, 100):\n",
    "    acc, _, _, _, _ = cs.SVM(X, Y, i, \"PCA\")\n",
    "    SVM_PCA_list += [acc]"
   ]
  },
  {
   "cell_type": "code",
   "execution_count": 6,
   "metadata": {},
   "outputs": [
    {
     "data": {
      "text/plain": [
       "(np.float64(0.43214285714285716), np.int64(54))"
      ]
     },
     "execution_count": 6,
     "metadata": {},
     "output_type": "execute_result"
    }
   ],
   "source": [
    "np.max(SVM_PCA_list), np.argmax(SVM_PCA_list)"
   ]
  },
  {
   "cell_type": "code",
   "execution_count": 14,
   "metadata": {},
   "outputs": [
    {
     "name": "stderr",
     "output_type": "stream",
     "text": [
      "c:\\Users\\Uporabnik\\AppData\\Local\\Programs\\Python\\Python312\\Lib\\site-packages\\sklearn\\utils\\validation.py:1339: DataConversionWarning: A column-vector y was passed when a 1d array was expected. Please change the shape of y to (n_samples, ), for example using ravel().\n",
      "  y = column_or_1d(y, warn=True)\n"
     ]
    },
    {
     "name": "stdout",
     "output_type": "stream",
     "text": [
      "SVM and PCA\n",
      "Accuracy:  0.3821428571428571\n",
      "F1 score:  0.3588294915505815\n",
      "Recall score:  0.3821428571428571\n",
      "Precision score:  0.3767948813495244\n"
     ]
    },
    {
     "name": "stderr",
     "output_type": "stream",
     "text": [
      "c:\\Users\\Uporabnik\\AppData\\Local\\Programs\\Python\\Python312\\Lib\\site-packages\\sklearn\\metrics\\_classification.py:1531: UndefinedMetricWarning: Precision is ill-defined and being set to 0.0 in labels with no predicted samples. Use `zero_division` parameter to control this behavior.\n",
      "  _warn_prf(average, modifier, f\"{metric.capitalize()} is\", len(result))\n"
     ]
    }
   ],
   "source": [
    "SVM_PCA_accuracy, SVM_PCA_f1, SVM_PCA_recall, SVM_PCA_precision, SVM_PCA_cm = cs.SVM(X, Y, 54, \"PCA\")\n",
    "print(\"SVM and PCA\")\n",
    "print(\"Accuracy: \", SVM_PCA_accuracy)\n",
    "print(\"F1 score: \", SVM_PCA_f1)\n",
    "print(\"Recall score: \", SVM_PCA_recall)\n",
    "print(\"Precision score: \", SVM_PCA_precision)"
   ]
  },
  {
   "cell_type": "code",
   "execution_count": 15,
   "metadata": {},
   "outputs": [
    {
     "data": {
      "text/plain": [
       "array([[49,  3,  6, 10, 15, 24,  0],\n",
       "       [12, 19,  9,  5, 20, 15,  0],\n",
       "       [11,  0, 28,  5, 14, 18,  0],\n",
       "       [ 3,  1,  0, 49, 11, 11,  0],\n",
       "       [ 3,  1,  9, 15, 33, 10,  0],\n",
       "       [18,  5,  7, 10, 12, 36,  0],\n",
       "       [ 8,  1,  8, 12, 20, 14,  0]])"
      ]
     },
     "execution_count": 15,
     "metadata": {},
     "output_type": "execute_result"
    }
   ],
   "source": [
    "SVM_PCA_cm"
   ]
  },
  {
   "cell_type": "code",
   "execution_count": null,
   "metadata": {},
   "outputs": [],
   "source": [
    "ANN_Fisher_list = []\n",
    "for i in range(1, 100):\n",
    "    acc, _, _, _, _ = cs.ann(X, Y, i, \"fisher\")\n",
    "    ANN_Fisher_list += [acc]"
   ]
  },
  {
   "cell_type": "code",
   "execution_count": 9,
   "metadata": {},
   "outputs": [
    {
     "data": {
      "text/plain": [
       "(np.float64(0.7696428571428572), np.int64(98))"
      ]
     },
     "execution_count": 9,
     "metadata": {},
     "output_type": "execute_result"
    }
   ],
   "source": [
    "np.max(ANN_Fisher_list), np.argmax(ANN_Fisher_list)"
   ]
  },
  {
   "cell_type": "code",
   "execution_count": 19,
   "metadata": {},
   "outputs": [
    {
     "name": "stderr",
     "output_type": "stream",
     "text": [
      "c:\\Users\\Uporabnik\\AppData\\Local\\Programs\\Python\\Python312\\Lib\\site-packages\\sklearn\\neural_network\\_multilayer_perceptron.py:1105: DataConversionWarning: A column-vector y was passed when a 1d array was expected. Please change the shape of y to (n_samples, ), for example using ravel().\n",
      "  y = column_or_1d(y, warn=True)\n"
     ]
    },
    {
     "name": "stdout",
     "output_type": "stream",
     "text": [
      "ANN and LDA\n",
      "Accuracy:  0.7160714285714286\n",
      "F1 score:  0.7153848387033283\n",
      "Recall score:  0.7160714285714286\n",
      "Precision score:  0.7262730734913762\n"
     ]
    }
   ],
   "source": [
    "ANN_Fisher_accuracy, ANN_Fisher_f1, ANN_Fisher_recall, ANN_Fisher_precision, ANN_Fisher_cm = cs.ann(X, Y, 98, \"fisher\")\n",
    "print(\"ANN and LDA\")\n",
    "print(\"Accuracy: \", ANN_Fisher_accuracy)\n",
    "print(\"F1 score: \", ANN_Fisher_f1)\n",
    "print(\"Recall score: \", ANN_Fisher_recall)\n",
    "print(\"Precision score: \", ANN_Fisher_precision)"
   ]
  },
  {
   "cell_type": "code",
   "execution_count": 20,
   "metadata": {},
   "outputs": [
    {
     "data": {
      "text/plain": [
       "array([[79,  5,  4,  7,  4,  3,  5],\n",
       "       [ 0, 40, 10,  5,  6, 10,  9],\n",
       "       [ 3,  3, 63,  0,  1,  6,  0],\n",
       "       [ 1,  1,  0, 66,  0,  0,  7],\n",
       "       [ 1,  1,  1,  4, 60,  1,  3],\n",
       "       [ 0,  9,  6,  1,  3, 55, 14],\n",
       "       [ 1,  0,  0,  4,  6, 14, 38]])"
      ]
     },
     "execution_count": 20,
     "metadata": {},
     "output_type": "execute_result"
    }
   ],
   "source": [
    "ANN_Fisher_cm"
   ]
  },
  {
   "cell_type": "code",
   "execution_count": null,
   "metadata": {},
   "outputs": [],
   "source": [
    "ANN_PCA_list = []\n",
    "for i in range(1, 100):\n",
    "    acc, _, _, _, _ = cs.ann(X, Y, i, \"PCA\")\n",
    "    ANN_PCA_list += [acc]"
   ]
  },
  {
   "cell_type": "code",
   "execution_count": 11,
   "metadata": {},
   "outputs": [
    {
     "data": {
      "text/plain": [
       "(np.float64(0.5821428571428572), np.int64(44))"
      ]
     },
     "execution_count": 11,
     "metadata": {},
     "output_type": "execute_result"
    }
   ],
   "source": [
    "np.max(ANN_PCA_list), np.argmax(ANN_PCA_list)"
   ]
  },
  {
   "cell_type": "code",
   "execution_count": 33,
   "metadata": {},
   "outputs": [
    {
     "name": "stderr",
     "output_type": "stream",
     "text": [
      "c:\\Users\\Uporabnik\\AppData\\Local\\Programs\\Python\\Python312\\Lib\\site-packages\\sklearn\\neural_network\\_multilayer_perceptron.py:1105: DataConversionWarning: A column-vector y was passed when a 1d array was expected. Please change the shape of y to (n_samples, ), for example using ravel().\n",
      "  y = column_or_1d(y, warn=True)\n"
     ]
    },
    {
     "name": "stdout",
     "output_type": "stream",
     "text": [
      "ANN and PCA\n",
      "Accuracy:  0.5178571428571429\n",
      "F1 score:  0.5114039527033039\n",
      "Recall score:  0.5178571428571429\n",
      "Precision score:  0.5119343802392438\n"
     ]
    }
   ],
   "source": [
    "ANN_PCA_accuracy, ANN_PCA_f1, ANN_PCA_recall, ANN_PCA_precision, ANN_PCA_cm = cs.ann(X, Y, 44, \"PCA\")\n",
    "print(\"ANN and PCA\")\n",
    "print(\"Accuracy: \", ANN_PCA_accuracy)\n",
    "print(\"F1 score: \", ANN_PCA_f1)\n",
    "print(\"Recall score: \", ANN_PCA_recall)\n",
    "print(\"Precision score: \", ANN_PCA_precision)"
   ]
  },
  {
   "cell_type": "code",
   "execution_count": 34,
   "metadata": {},
   "outputs": [
    {
     "data": {
      "text/plain": [
       "array([[61,  6,  8,  3,  9, 17,  3],\n",
       "       [10, 45,  6,  3, 10,  5,  1],\n",
       "       [ 8,  8, 30,  3,  5, 19,  3],\n",
       "       [ 0,  3,  1, 58,  5,  4,  4],\n",
       "       [ 4,  6,  6,  7, 43,  1,  4],\n",
       "       [13,  9, 16,  4,  4, 36,  6],\n",
       "       [11,  3,  9,  8,  9,  6, 17]])"
      ]
     },
     "execution_count": 34,
     "metadata": {},
     "output_type": "execute_result"
    }
   ],
   "source": [
    "ANN_PCA_cm"
   ]
  },
  {
   "cell_type": "markdown",
   "metadata": {},
   "source": [
    "Calculate rates using principal component analysis rates, since we will use it for dimension reduction. For a file given by a user, we will need to calculate only the top $58$ of features with best rates. In feature_extraction.py is a function that extracts only the features in X_columns.  "
   ]
  },
  {
   "cell_type": "code",
   "execution_count": 39,
   "metadata": {},
   "outputs": [],
   "source": [
    "X = pd.read_csv(\"X_tess.csv\", sep=\",\").drop(\"Unnamed: 0\", axis=1).dropna(axis=1, how='any')\n",
    "Y = pd.read_csv(\"Y_tess.csv\", sep=\",\").drop(\"Unnamed: 0\", axis=1)\n",
    "\n",
    "rates = dr.fisher_discriminator(X, Y)\n",
    "top_features_indices = np.argsort(rates)[-98:]  "
   ]
  },
  {
   "cell_type": "code",
   "execution_count": null,
   "metadata": {},
   "outputs": [],
   "source": [
    "X_columns = X.iloc[:, top_features_indices].columns[:-1]\n",
    "with open('../data/best_features.txt', 'w') as f:\n",
    "    for feature in X_columns:\n",
    "        f.write(f\"{feature},\")"
   ]
  },
  {
   "cell_type": "markdown",
   "metadata": {},
   "source": []
  }
 ],
 "metadata": {
  "kernelspec": {
   "display_name": "Python 3",
   "language": "python",
   "name": "python3"
  },
  "language_info": {
   "codemirror_mode": {
    "name": "ipython",
    "version": 3
   },
   "file_extension": ".py",
   "mimetype": "text/x-python",
   "name": "python",
   "nbconvert_exporter": "python",
   "pygments_lexer": "ipython3",
   "version": "3.12.4"
  }
 },
 "nbformat": 4,
 "nbformat_minor": 2
}
