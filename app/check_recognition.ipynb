{
 "cells": [
  {
   "cell_type": "code",
   "execution_count": 1,
   "metadata": {},
   "outputs": [],
   "source": [
    "import sys\n",
    "from read_file import read_file \n",
    "import class_extraction as ce\n",
    "import feature_extraction as fe\n",
    "import dimension_reduction as dr\n",
    "import numpy as np\n",
    "import pandas as pd\n",
    "import scipy\n",
    "from os import listdir\n",
    "import classifier_selection as cs"
   ]
  },
  {
   "cell_type": "markdown",
   "metadata": {},
   "source": [
    "Get all the file in the \"audio\" folder."
   ]
  },
  {
   "cell_type": "code",
   "execution_count": 2,
   "metadata": {},
   "outputs": [],
   "source": [
    "file_names = [\"../audio/\" + f for f in listdir(\"..\\\\audio\")]"
   ]
  },
  {
   "cell_type": "markdown",
   "metadata": {},
   "source": [
    "Create dataframe $X$, where features of each signal will be saved, and vector $Y$, where all classifiactions of each signal will be stored. Next read each file in the audio folder and calculate it's features by using function in feature_extraction.py. For each feature and it's first and second derivative calculate the following statistics: max, min, mean, standard deviation, skewness, kurtosis. Save all the statistics in matrix $X$. "
   ]
  },
  {
   "cell_type": "code",
   "execution_count": 3,
   "metadata": {},
   "outputs": [],
   "source": [
    "X = fe.calculate_feature_matrix(file_names)\n",
    "X.to_csv('X.csv')"
   ]
  },
  {
   "cell_type": "code",
   "execution_count": 4,
   "metadata": {},
   "outputs": [
    {
     "data": {
      "text/html": [
       "<div>\n",
       "<style scoped>\n",
       "    .dataframe tbody tr th:only-of-type {\n",
       "        vertical-align: middle;\n",
       "    }\n",
       "\n",
       "    .dataframe tbody tr th {\n",
       "        vertical-align: top;\n",
       "    }\n",
       "\n",
       "    .dataframe thead th {\n",
       "        text-align: right;\n",
       "    }\n",
       "</style>\n",
       "<table border=\"1\" class=\"dataframe\">\n",
       "  <thead>\n",
       "    <tr style=\"text-align: right;\">\n",
       "      <th></th>\n",
       "      <th>min_energy</th>\n",
       "      <th>max_energy</th>\n",
       "      <th>mean_energy</th>\n",
       "      <th>std_energy</th>\n",
       "      <th>ske_energy</th>\n",
       "      <th>kur_energy</th>\n",
       "      <th>min_1_diff_energy</th>\n",
       "      <th>max_1_diff_energy</th>\n",
       "      <th>mean_1_diff_energy</th>\n",
       "      <th>std_1_diff_energy</th>\n",
       "      <th>...</th>\n",
       "      <th>mean_1_diff_mel5</th>\n",
       "      <th>std_1_diff_mel5</th>\n",
       "      <th>ske_1_diff_mel5</th>\n",
       "      <th>kur_1_diff_mel5</th>\n",
       "      <th>min_2_diff_mel5</th>\n",
       "      <th>max_2_diff_mel5</th>\n",
       "      <th>mean_2_diff_mel5</th>\n",
       "      <th>std_2_diff_mel5</th>\n",
       "      <th>ske_2_diff_mel5</th>\n",
       "      <th>kur_2_diff_mel5</th>\n",
       "    </tr>\n",
       "  </thead>\n",
       "  <tbody>\n",
       "    <tr>\n",
       "      <th>0</th>\n",
       "      <td>0.000350</td>\n",
       "      <td>1.332321</td>\n",
       "      <td>0.156976</td>\n",
       "      <td>0.251207</td>\n",
       "      <td>2.197356</td>\n",
       "      <td>5.102140</td>\n",
       "      <td>-0.361619</td>\n",
       "      <td>0.470686</td>\n",
       "      <td>-0.000003</td>\n",
       "      <td>0.072045</td>\n",
       "      <td>...</td>\n",
       "      <td>-0.000058</td>\n",
       "      <td>2.720398</td>\n",
       "      <td>1.977120</td>\n",
       "      <td>45.218218</td>\n",
       "      <td>-33.766491</td>\n",
       "      <td>25.891126</td>\n",
       "      <td>0.000068</td>\n",
       "      <td>3.045031</td>\n",
       "      <td>-1.985857</td>\n",
       "      <td>50.650929</td>\n",
       "    </tr>\n",
       "    <tr>\n",
       "      <th>1</th>\n",
       "      <td>0.000351</td>\n",
       "      <td>2.510347</td>\n",
       "      <td>0.212405</td>\n",
       "      <td>0.380202</td>\n",
       "      <td>2.792289</td>\n",
       "      <td>8.968366</td>\n",
       "      <td>-0.856239</td>\n",
       "      <td>1.049140</td>\n",
       "      <td>-0.000002</td>\n",
       "      <td>0.136454</td>\n",
       "      <td>...</td>\n",
       "      <td>-0.000056</td>\n",
       "      <td>1.890396</td>\n",
       "      <td>-0.041599</td>\n",
       "      <td>18.327448</td>\n",
       "      <td>-13.421045</td>\n",
       "      <td>14.706220</td>\n",
       "      <td>0.000047</td>\n",
       "      <td>2.061991</td>\n",
       "      <td>-0.227902</td>\n",
       "      <td>15.297778</td>\n",
       "    </tr>\n",
       "    <tr>\n",
       "      <th>2</th>\n",
       "      <td>0.000354</td>\n",
       "      <td>3.848372</td>\n",
       "      <td>0.363295</td>\n",
       "      <td>0.765779</td>\n",
       "      <td>2.681594</td>\n",
       "      <td>6.828141</td>\n",
       "      <td>-0.643302</td>\n",
       "      <td>1.084178</td>\n",
       "      <td>-0.000003</td>\n",
       "      <td>0.156856</td>\n",
       "      <td>...</td>\n",
       "      <td>-0.000080</td>\n",
       "      <td>4.212908</td>\n",
       "      <td>-1.522357</td>\n",
       "      <td>17.752938</td>\n",
       "      <td>-33.467710</td>\n",
       "      <td>23.513373</td>\n",
       "      <td>0.000080</td>\n",
       "      <td>3.877857</td>\n",
       "      <td>-1.654675</td>\n",
       "      <td>30.345394</td>\n",
       "    </tr>\n",
       "  </tbody>\n",
       "</table>\n",
       "<p>3 rows × 288 columns</p>\n",
       "</div>"
      ],
      "text/plain": [
       "   min_energy  max_energy  mean_energy  std_energy  ske_energy  kur_energy  \\\n",
       "0    0.000350    1.332321     0.156976    0.251207    2.197356    5.102140   \n",
       "1    0.000351    2.510347     0.212405    0.380202    2.792289    8.968366   \n",
       "2    0.000354    3.848372     0.363295    0.765779    2.681594    6.828141   \n",
       "\n",
       "   min_1_diff_energy  max_1_diff_energy  mean_1_diff_energy  \\\n",
       "0          -0.361619           0.470686           -0.000003   \n",
       "1          -0.856239           1.049140           -0.000002   \n",
       "2          -0.643302           1.084178           -0.000003   \n",
       "\n",
       "   std_1_diff_energy  ...  mean_1_diff_mel5  std_1_diff_mel5  ske_1_diff_mel5  \\\n",
       "0           0.072045  ...         -0.000058         2.720398         1.977120   \n",
       "1           0.136454  ...         -0.000056         1.890396        -0.041599   \n",
       "2           0.156856  ...         -0.000080         4.212908        -1.522357   \n",
       "\n",
       "   kur_1_diff_mel5  min_2_diff_mel5  max_2_diff_mel5  mean_2_diff_mel5  \\\n",
       "0        45.218218       -33.766491        25.891126          0.000068   \n",
       "1        18.327448       -13.421045        14.706220          0.000047   \n",
       "2        17.752938       -33.467710        23.513373          0.000080   \n",
       "\n",
       "   std_2_diff_mel5  ske_2_diff_mel5  kur_2_diff_mel5  \n",
       "0         3.045031        -1.985857        50.650929  \n",
       "1         2.061991        -0.227902        15.297778  \n",
       "2         3.877857        -1.654675        30.345394  \n",
       "\n",
       "[3 rows x 288 columns]"
      ]
     },
     "execution_count": 4,
     "metadata": {},
     "output_type": "execute_result"
    }
   ],
   "source": [
    "X"
   ]
  },
  {
   "cell_type": "code",
   "execution_count": 7,
   "metadata": {},
   "outputs": [
    {
     "name": "stdout",
     "output_type": "stream",
     "text": [
      "DC_a01.wav\n",
      "anger\n",
      "DC_a02.wav\n",
      "anger\n",
      "DC_a03.wav\n",
      "anger\n"
     ]
    }
   ],
   "source": [
    "Y = []\n",
    "for i, file_name in enumerate(file_names):\n",
    "    # Save the classification of the signal in Y\n",
    "    print(file_name.split(\"/\")[2])\n",
    "    print(ce.get_class_savee(file_name))\n",
    "    Y += [ce.get_class_savee(file_name)]\n",
    "    \n",
    "Y = pd.Series(Y)\n",
    "Y.to_csv(\"Y.csv\")"
   ]
  },
  {
   "cell_type": "code",
   "execution_count": 8,
   "metadata": {},
   "outputs": [
    {
     "name": "stderr",
     "output_type": "stream",
     "text": [
      "c:\\School\\RZP\\vaje\\Projekt\\Emotional-speech-recognition\\app\\dimension_reduction.py:41: RuntimeWarning: invalid value encountered in divide\n",
      "  F_r = np.diag(S_b / S_w)\n"
     ]
    },
    {
     "ename": "ValueError",
     "evalue": "The number of classes has to be greater than one; got 1 class",
     "output_type": "error",
     "traceback": [
      "\u001b[1;31m---------------------------------------------------------------------------\u001b[0m",
      "\u001b[1;31mValueError\u001b[0m                                Traceback (most recent call last)",
      "Cell \u001b[1;32mIn[8], line 1\u001b[0m\n\u001b[1;32m----> 1\u001b[0m SVM_Fisher_accuracy \u001b[38;5;241m=\u001b[39m \u001b[43mcs\u001b[49m\u001b[38;5;241;43m.\u001b[39;49m\u001b[43mSVM\u001b[49m\u001b[43m(\u001b[49m\u001b[43mX\u001b[49m\u001b[43m,\u001b[49m\u001b[43m \u001b[49m\u001b[43mY\u001b[49m\u001b[43m,\u001b[49m\u001b[43m \u001b[49m\u001b[38;5;241;43m70\u001b[39;49m\u001b[43m,\u001b[49m\u001b[43m \u001b[49m\u001b[38;5;124;43m\"\u001b[39;49m\u001b[38;5;124;43mfisher\u001b[39;49m\u001b[38;5;124;43m\"\u001b[39;49m\u001b[43m)\u001b[49m\n\u001b[0;32m      2\u001b[0m SVM_Fisher_accuracy\n",
      "File \u001b[1;32mc:\\School\\RZP\\vaje\\Projekt\\Emotional-speech-recognition\\app\\classifier_selection.py:36\u001b[0m, in \u001b[0;36mSVM\u001b[1;34m(X, Y, n, dimension_reduction_technique)\u001b[0m\n\u001b[0;32m     34\u001b[0m \u001b[38;5;66;03m# Train SVM Classifier\u001b[39;00m\n\u001b[0;32m     35\u001b[0m svm \u001b[38;5;241m=\u001b[39m SVC(kernel\u001b[38;5;241m=\u001b[39m\u001b[38;5;124m'\u001b[39m\u001b[38;5;124mlinear\u001b[39m\u001b[38;5;124m'\u001b[39m, C\u001b[38;5;241m=\u001b[39m\u001b[38;5;241m1.0\u001b[39m, random_state\u001b[38;5;241m=\u001b[39m\u001b[38;5;241m42\u001b[39m)\n\u001b[1;32m---> 36\u001b[0m \u001b[43msvm\u001b[49m\u001b[38;5;241;43m.\u001b[39;49m\u001b[43mfit\u001b[49m\u001b[43m(\u001b[49m\u001b[43mX_train\u001b[49m\u001b[43m,\u001b[49m\u001b[43m \u001b[49m\u001b[43my_train\u001b[49m\u001b[43m)\u001b[49m\n\u001b[0;32m     38\u001b[0m \u001b[38;5;66;03m# Predict and Evaluate\u001b[39;00m\n\u001b[0;32m     39\u001b[0m y_pred \u001b[38;5;241m=\u001b[39m svm\u001b[38;5;241m.\u001b[39mpredict(X_test)\n",
      "File \u001b[1;32mc:\\Users\\Uporabnik\\AppData\\Local\\Programs\\Python\\Python312\\Lib\\site-packages\\sklearn\\base.py:1473\u001b[0m, in \u001b[0;36m_fit_context.<locals>.decorator.<locals>.wrapper\u001b[1;34m(estimator, *args, **kwargs)\u001b[0m\n\u001b[0;32m   1466\u001b[0m     estimator\u001b[38;5;241m.\u001b[39m_validate_params()\n\u001b[0;32m   1468\u001b[0m \u001b[38;5;28;01mwith\u001b[39;00m config_context(\n\u001b[0;32m   1469\u001b[0m     skip_parameter_validation\u001b[38;5;241m=\u001b[39m(\n\u001b[0;32m   1470\u001b[0m         prefer_skip_nested_validation \u001b[38;5;129;01mor\u001b[39;00m global_skip_validation\n\u001b[0;32m   1471\u001b[0m     )\n\u001b[0;32m   1472\u001b[0m ):\n\u001b[1;32m-> 1473\u001b[0m     \u001b[38;5;28;01mreturn\u001b[39;00m \u001b[43mfit_method\u001b[49m\u001b[43m(\u001b[49m\u001b[43mestimator\u001b[49m\u001b[43m,\u001b[49m\u001b[43m \u001b[49m\u001b[38;5;241;43m*\u001b[39;49m\u001b[43margs\u001b[49m\u001b[43m,\u001b[49m\u001b[43m \u001b[49m\u001b[38;5;241;43m*\u001b[39;49m\u001b[38;5;241;43m*\u001b[39;49m\u001b[43mkwargs\u001b[49m\u001b[43m)\u001b[49m\n",
      "File \u001b[1;32mc:\\Users\\Uporabnik\\AppData\\Local\\Programs\\Python\\Python312\\Lib\\site-packages\\sklearn\\svm\\_base.py:199\u001b[0m, in \u001b[0;36mBaseLibSVM.fit\u001b[1;34m(self, X, y, sample_weight)\u001b[0m\n\u001b[0;32m    189\u001b[0m \u001b[38;5;28;01melse\u001b[39;00m:\n\u001b[0;32m    190\u001b[0m     X, y \u001b[38;5;241m=\u001b[39m \u001b[38;5;28mself\u001b[39m\u001b[38;5;241m.\u001b[39m_validate_data(\n\u001b[0;32m    191\u001b[0m         X,\n\u001b[0;32m    192\u001b[0m         y,\n\u001b[1;32m   (...)\u001b[0m\n\u001b[0;32m    196\u001b[0m         accept_large_sparse\u001b[38;5;241m=\u001b[39m\u001b[38;5;28;01mFalse\u001b[39;00m,\n\u001b[0;32m    197\u001b[0m     )\n\u001b[1;32m--> 199\u001b[0m y \u001b[38;5;241m=\u001b[39m \u001b[38;5;28;43mself\u001b[39;49m\u001b[38;5;241;43m.\u001b[39;49m\u001b[43m_validate_targets\u001b[49m\u001b[43m(\u001b[49m\u001b[43my\u001b[49m\u001b[43m)\u001b[49m\n\u001b[0;32m    201\u001b[0m sample_weight \u001b[38;5;241m=\u001b[39m np\u001b[38;5;241m.\u001b[39masarray(\n\u001b[0;32m    202\u001b[0m     [] \u001b[38;5;28;01mif\u001b[39;00m sample_weight \u001b[38;5;129;01mis\u001b[39;00m \u001b[38;5;28;01mNone\u001b[39;00m \u001b[38;5;28;01melse\u001b[39;00m sample_weight, dtype\u001b[38;5;241m=\u001b[39mnp\u001b[38;5;241m.\u001b[39mfloat64\n\u001b[0;32m    203\u001b[0m )\n\u001b[0;32m    204\u001b[0m solver_type \u001b[38;5;241m=\u001b[39m LIBSVM_IMPL\u001b[38;5;241m.\u001b[39mindex(\u001b[38;5;28mself\u001b[39m\u001b[38;5;241m.\u001b[39m_impl)\n",
      "File \u001b[1;32mc:\\Users\\Uporabnik\\AppData\\Local\\Programs\\Python\\Python312\\Lib\\site-packages\\sklearn\\svm\\_base.py:742\u001b[0m, in \u001b[0;36mBaseSVC._validate_targets\u001b[1;34m(self, y)\u001b[0m\n\u001b[0;32m    740\u001b[0m \u001b[38;5;28mself\u001b[39m\u001b[38;5;241m.\u001b[39mclass_weight_ \u001b[38;5;241m=\u001b[39m compute_class_weight(\u001b[38;5;28mself\u001b[39m\u001b[38;5;241m.\u001b[39mclass_weight, classes\u001b[38;5;241m=\u001b[39m\u001b[38;5;28mcls\u001b[39m, y\u001b[38;5;241m=\u001b[39my_)\n\u001b[0;32m    741\u001b[0m \u001b[38;5;28;01mif\u001b[39;00m \u001b[38;5;28mlen\u001b[39m(\u001b[38;5;28mcls\u001b[39m) \u001b[38;5;241m<\u001b[39m \u001b[38;5;241m2\u001b[39m:\n\u001b[1;32m--> 742\u001b[0m     \u001b[38;5;28;01mraise\u001b[39;00m \u001b[38;5;167;01mValueError\u001b[39;00m(\n\u001b[0;32m    743\u001b[0m         \u001b[38;5;124m\"\u001b[39m\u001b[38;5;124mThe number of classes has to be greater than one; got \u001b[39m\u001b[38;5;132;01m%d\u001b[39;00m\u001b[38;5;124m class\u001b[39m\u001b[38;5;124m\"\u001b[39m\n\u001b[0;32m    744\u001b[0m         \u001b[38;5;241m%\u001b[39m \u001b[38;5;28mlen\u001b[39m(\u001b[38;5;28mcls\u001b[39m)\n\u001b[0;32m    745\u001b[0m     )\n\u001b[0;32m    747\u001b[0m \u001b[38;5;28mself\u001b[39m\u001b[38;5;241m.\u001b[39mclasses_ \u001b[38;5;241m=\u001b[39m \u001b[38;5;28mcls\u001b[39m\n\u001b[0;32m    749\u001b[0m \u001b[38;5;28;01mreturn\u001b[39;00m np\u001b[38;5;241m.\u001b[39masarray(y, dtype\u001b[38;5;241m=\u001b[39mnp\u001b[38;5;241m.\u001b[39mfloat64, order\u001b[38;5;241m=\u001b[39m\u001b[38;5;124m\"\u001b[39m\u001b[38;5;124mC\u001b[39m\u001b[38;5;124m\"\u001b[39m)\n",
      "\u001b[1;31mValueError\u001b[0m: The number of classes has to be greater than one; got 1 class"
     ]
    }
   ],
   "source": [
    "SVM_Fisher_accuracy = cs.SVM(X, Y, 70, \"fisher\")\n",
    "SVM_Fisher_accuracy"
   ]
  },
  {
   "cell_type": "code",
   "execution_count": 42,
   "metadata": {},
   "outputs": [
    {
     "data": {
      "text/plain": [
       "0.4791666666666667"
      ]
     },
     "execution_count": 42,
     "metadata": {},
     "output_type": "execute_result"
    }
   ],
   "source": [
    "SVM_PCA_accuracy = cs.SVM(X, Y, 58, \"PCA\")\n",
    "SVM_PCA_accuracy"
   ]
  },
  {
   "cell_type": "code",
   "execution_count": 36,
   "metadata": {},
   "outputs": [
    {
     "name": "stderr",
     "output_type": "stream",
     "text": [
      "c:\\School\\RZP\\vaje\\Projekt\\dimension_reduction.py:41: RuntimeWarning: invalid value encountered in divide\n",
      "  F_r = np.diag(S_b / S_w)\n"
     ]
    },
    {
     "data": {
      "text/plain": [
       "0.4375"
      ]
     },
     "execution_count": 36,
     "metadata": {},
     "output_type": "execute_result"
    }
   ],
   "source": [
    "ANN_Fisher_accuracy = cs.ann(X, Y, 41, \"fisher\")\n",
    "ANN_Fisher_accuracy"
   ]
  },
  {
   "cell_type": "code",
   "execution_count": 40,
   "metadata": {},
   "outputs": [
    {
     "data": {
      "text/plain": [
       "0.4166666666666667"
      ]
     },
     "execution_count": 40,
     "metadata": {},
     "output_type": "execute_result"
    }
   ],
   "source": [
    "ANN_PCA_accuracy = cs.ann(X, Y, 4, \"PCA\")\n",
    "ANN_PCA_accuracy"
   ]
  },
  {
   "cell_type": "code",
   "execution_count": null,
   "metadata": {},
   "outputs": [],
   "source": []
  }
 ],
 "metadata": {
  "kernelspec": {
   "display_name": "Python 3",
   "language": "python",
   "name": "python3"
  },
  "language_info": {
   "codemirror_mode": {
    "name": "ipython",
    "version": 3
   },
   "file_extension": ".py",
   "mimetype": "text/x-python",
   "name": "python",
   "nbconvert_exporter": "python",
   "pygments_lexer": "ipython3",
   "version": "3.12.4"
  }
 },
 "nbformat": 4,
 "nbformat_minor": 2
}
