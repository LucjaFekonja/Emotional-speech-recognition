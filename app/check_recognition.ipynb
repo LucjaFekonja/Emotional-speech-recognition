{
 "cells": [
  {
   "cell_type": "code",
   "execution_count": 1,
   "metadata": {},
   "outputs": [],
   "source": [
    "import sys\n",
    "from read_file import read_file \n",
    "import class_extraction as ce\n",
    "import feature_extraction as fe\n",
    "import dimension_reduction as dr\n",
    "import numpy as np\n",
    "import pandas as pd\n",
    "import scipy\n",
    "from os import listdir\n",
    "import classifier_selection as cs"
   ]
  },
  {
   "cell_type": "markdown",
   "metadata": {},
   "source": [
    "Get all the file in the \"audio\" folder."
   ]
  },
  {
   "cell_type": "code",
   "execution_count": 2,
   "metadata": {},
   "outputs": [],
   "source": [
    "file_names = [\"../audio/\" + f for f in listdir(\"..\\\\audio\")]"
   ]
  },
  {
   "cell_type": "markdown",
   "metadata": {},
   "source": [
    "Create dataframe $X$, where features of each signal will be saved, and vector $Y$, where all classifiactions of each signal will be stored. Next read each file in the audio folder and calculate it's features by using function in feature_extraction.py. For each feature and it's first and second derivative calculate the following statistics: max, min, mean, standard deviation, skewness, kurtosis. Save all the statistics in matrix $X$. "
   ]
  },
  {
   "cell_type": "code",
   "execution_count": 3,
   "metadata": {},
   "outputs": [],
   "source": [
    "X = fe.calculate_feature_matrix(file_names)\n",
    "X.to_csv('X.csv')"
   ]
  },
  {
   "cell_type": "code",
   "execution_count": 4,
   "metadata": {},
   "outputs": [],
   "source": [
    "Y = []\n",
    "for i, file_name in enumerate(file_names):\n",
    "    # Save the classification of the signal in Y\n",
    "    Y += [ce.get_class_savee(file_name)]\n",
    "    \n",
    "Y = pd.Series(Y)\n",
    "Y.to_csv(\"Y.csv\")"
   ]
  },
  {
   "cell_type": "code",
   "execution_count": 5,
   "metadata": {},
   "outputs": [
    {
     "name": "stderr",
     "output_type": "stream",
     "text": [
      "c:\\School\\RZP\\vaje\\Projekt\\Emotional-speech-recognition\\app\\dimension_reduction.py:41: RuntimeWarning: invalid value encountered in divide\n",
      "  F_r = np.diag(S_b / S_w)\n"
     ]
    },
    {
     "data": {
      "text/plain": [
       "0.46875"
      ]
     },
     "execution_count": 5,
     "metadata": {},
     "output_type": "execute_result"
    }
   ],
   "source": [
    "SVM_Fisher_accuracy = cs.SVM(X, Y, 70, \"fisher\")\n",
    "SVM_Fisher_accuracy"
   ]
  },
  {
   "cell_type": "code",
   "execution_count": 6,
   "metadata": {},
   "outputs": [
    {
     "data": {
      "text/plain": [
       "0.4791666666666667"
      ]
     },
     "execution_count": 6,
     "metadata": {},
     "output_type": "execute_result"
    }
   ],
   "source": [
    "SVM_PCA_accuracy = cs.SVM(X, Y, 58, \"PCA\")\n",
    "SVM_PCA_accuracy"
   ]
  },
  {
   "cell_type": "code",
   "execution_count": 7,
   "metadata": {},
   "outputs": [
    {
     "name": "stderr",
     "output_type": "stream",
     "text": [
      "c:\\School\\RZP\\vaje\\Projekt\\Emotional-speech-recognition\\app\\dimension_reduction.py:41: RuntimeWarning: invalid value encountered in divide\n",
      "  F_r = np.diag(S_b / S_w)\n"
     ]
    },
    {
     "data": {
      "text/plain": [
       "0.4375"
      ]
     },
     "execution_count": 7,
     "metadata": {},
     "output_type": "execute_result"
    }
   ],
   "source": [
    "ANN_Fisher_accuracy = cs.ann(X, Y, 41, \"fisher\")\n",
    "ANN_Fisher_accuracy"
   ]
  },
  {
   "cell_type": "code",
   "execution_count": 8,
   "metadata": {},
   "outputs": [
    {
     "data": {
      "text/plain": [
       "0.4166666666666667"
      ]
     },
     "execution_count": 8,
     "metadata": {},
     "output_type": "execute_result"
    }
   ],
   "source": [
    "ANN_PCA_accuracy = cs.ann(X, Y, 4, \"PCA\")\n",
    "ANN_PCA_accuracy"
   ]
  },
  {
   "cell_type": "code",
   "execution_count": null,
   "metadata": {},
   "outputs": [],
   "source": []
  }
 ],
 "metadata": {
  "kernelspec": {
   "display_name": "Python 3",
   "language": "python",
   "name": "python3"
  },
  "language_info": {
   "codemirror_mode": {
    "name": "ipython",
    "version": 3
   },
   "file_extension": ".py",
   "mimetype": "text/x-python",
   "name": "python",
   "nbconvert_exporter": "python",
   "pygments_lexer": "ipython3",
   "version": "3.12.4"
  }
 },
 "nbformat": 4,
 "nbformat_minor": 2
}
